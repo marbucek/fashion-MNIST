{
  "nbformat": 4,
  "nbformat_minor": 0,
  "metadata": {
    "colab": {
      "name": "fashion-mnist.ipynb",
      "provenance": [],
      "collapsed_sections": [],
      "include_colab_link": true
    },
    "kernelspec": {
      "name": "python3",
      "display_name": "Python 3"
    },
    "accelerator": "GPU"
  },
  "cells": [
    {
      "cell_type": "markdown",
      "metadata": {
        "id": "view-in-github",
        "colab_type": "text"
      },
      "source": [
        "<a href=\"https://colab.research.google.com/github/marbucek/fashion-MNIST/blob/master/fashion_mnist.ipynb\" target=\"_parent\"><img src=\"https://colab.research.google.com/assets/colab-badge.svg\" alt=\"Open In Colab\"/></a>"
      ]
    },
    {
      "cell_type": "code",
      "metadata": {
        "id": "Q0PpAryIESjP",
        "colab_type": "code",
        "outputId": "a0a47066-6d51-4c86-92fa-57cd848318c0",
        "colab": {
          "base_uri": "https://localhost:8080/",
          "height": 281
        }
      },
      "source": [
        "%tensorflow_version 1.x #I chose to work with tensorflow 1.15 since training on GPUs was not fully functioning in GoogleColab with the 2.0 version\n",
        "\n",
        "from __future__ import absolute_import, division, print_function, unicode_literals\n",
        "\n",
        "import tensorflow  as tf\n",
        "import numpy as np\n",
        "from tensorflow.keras.layers import Dense, Flatten, Conv2D, MaxPool2D, Input, Lambda, Dropout, DepthwiseConv2D, BatchNormalization, ReLU\n",
        "from tensorflow.keras import Model\n",
        "from tensorflow.keras.callbacks import EarlyStopping\n",
        "\n",
        "from sklearn.model_selection import train_test_split, KFold\n",
        "\n",
        "from matplotlib import pyplot as plt\n",
        "\n",
        "from scipy.ndimage import rotate\n",
        "\n",
        "mnist = tf.keras.datasets.fashion_mnist\n",
        "(x_train, y_train), (x_test, y_test) = mnist.load_data()\n",
        "x_train, x_test = x_train[:,:,:,np.newaxis], x_test[:,:,:,np.newaxis]\n",
        "x_train, x_test = x_train / 255.0, x_test / 255.0"
      ],
      "execution_count": 2,
      "outputs": [
        {
          "output_type": "stream",
          "text": [
            "`%tensorflow_version` only switches the major version: `1.x` or `2.x`.\n",
            "You set: `1.x #I chose to work with tensorflow 1.15 since training on GPUs was not fully functioning in GoogleColab with the 2.0 version`. This will be interpreted as: `1.x`.\n",
            "\n",
            "\n",
            "TensorFlow 1.x selected.\n",
            "Downloading data from https://storage.googleapis.com/tensorflow/tf-keras-datasets/train-labels-idx1-ubyte.gz\n",
            "32768/29515 [=================================] - 0s 0us/step\n",
            "Downloading data from https://storage.googleapis.com/tensorflow/tf-keras-datasets/train-images-idx3-ubyte.gz\n",
            "26427392/26421880 [==============================] - 1s 0us/step\n",
            "Downloading data from https://storage.googleapis.com/tensorflow/tf-keras-datasets/t10k-labels-idx1-ubyte.gz\n",
            "8192/5148 [===============================================] - 0s 0us/step\n",
            "Downloading data from https://storage.googleapis.com/tensorflow/tf-keras-datasets/t10k-images-idx3-ubyte.gz\n",
            "4423680/4422102 [==============================] - 0s 0us/step\n"
          ],
          "name": "stdout"
        }
      ]
    },
    {
      "cell_type": "markdown",
      "metadata": {
        "id": "l4VAyG0NEo9x",
        "colab_type": "text"
      },
      "source": [
        "#Simple CNN architecture"
      ]
    },
    {
      "cell_type": "code",
      "metadata": {
        "id": "zGncVQzqE77T",
        "colab_type": "code",
        "outputId": "f26d1bd9-29c1-4ed1-f780-656cef1b760e",
        "colab": {
          "base_uri": "https://localhost:8080/",
          "height": 595
        }
      },
      "source": [
        "model = tf.keras.Sequential([\n",
        "    Conv2D(16, kernel_size=3, activation='relu', padding='same', input_shape=(28,28,1)),\n",
        "    Conv2D(16, kernel_size=3, activation='relu', padding='same'),\n",
        "    MaxPool2D(pool_size=(2,2), strides=2, padding = 'same'),\n",
        "    Conv2D(32, kernel_size=3, activation='relu', padding = 'same'),\n",
        "    Conv2D(32, kernel_size=3, activation='relu', padding = 'same'),\n",
        "    MaxPool2D(pool_size=(2,2), strides=2, padding = 'same'),\n",
        "    Conv2D(32, kernel_size=3, activation='relu', padding = 'same'),\n",
        "    Conv2D(32, kernel_size=3, activation='relu', padding = 'same'),\n",
        "    MaxPool2D(pool_size=(2,2), strides=2),\n",
        "    Flatten(),\n",
        "    tf.keras.layers.Dropout(rate = 0.5),\n",
        "    Dense(128, activation='relu'),\n",
        "    Dense(10, activation='softmax')\n",
        "])\n",
        "\n",
        "opt = tf.keras.optimizers.Adam(0.001)\n",
        "\n",
        "model.compile(optimizer=opt,\n",
        "              loss='sparse_categorical_crossentropy',\n",
        "              metrics=['accuracy'])\n",
        "\n",
        "model.save_weights('init_weights.h5')\n",
        "\n",
        "model.summary()"
      ],
      "execution_count": 49,
      "outputs": [
        {
          "output_type": "stream",
          "text": [
            "Model: \"sequential\"\n",
            "_________________________________________________________________\n",
            "Layer (type)                 Output Shape              Param #   \n",
            "=================================================================\n",
            "conv2d (Conv2D)              (None, 28, 28, 16)        160       \n",
            "_________________________________________________________________\n",
            "conv2d_1 (Conv2D)            (None, 28, 28, 16)        2320      \n",
            "_________________________________________________________________\n",
            "max_pooling2d (MaxPooling2D) (None, 14, 14, 16)        0         \n",
            "_________________________________________________________________\n",
            "conv2d_2 (Conv2D)            (None, 14, 14, 32)        4640      \n",
            "_________________________________________________________________\n",
            "conv2d_3 (Conv2D)            (None, 14, 14, 32)        9248      \n",
            "_________________________________________________________________\n",
            "max_pooling2d_1 (MaxPooling2 (None, 7, 7, 32)          0         \n",
            "_________________________________________________________________\n",
            "conv2d_4 (Conv2D)            (None, 7, 7, 32)          9248      \n",
            "_________________________________________________________________\n",
            "conv2d_5 (Conv2D)            (None, 7, 7, 32)          9248      \n",
            "_________________________________________________________________\n",
            "max_pooling2d_2 (MaxPooling2 (None, 3, 3, 32)          0         \n",
            "_________________________________________________________________\n",
            "flatten (Flatten)            (None, 288)               0         \n",
            "_________________________________________________________________\n",
            "dropout_1 (Dropout)          (None, 288)               0         \n",
            "_________________________________________________________________\n",
            "dense_1 (Dense)              (None, 128)               36992     \n",
            "_________________________________________________________________\n",
            "dense_2 (Dense)              (None, 10)                1290      \n",
            "=================================================================\n",
            "Total params: 73,146\n",
            "Trainable params: 73,146\n",
            "Non-trainable params: 0\n",
            "_________________________________________________________________\n"
          ],
          "name": "stdout"
        }
      ]
    },
    {
      "cell_type": "code",
      "metadata": {
        "id": "w8iz1nJxmxq_",
        "colab_type": "code",
        "colab": {
          "base_uri": "https://localhost:8080/",
          "height": 221
        },
        "outputId": "378046b3-9f8e-4ee1-d34d-18597e8c9816"
      },
      "source": [
        "#calculate the number of steps\n",
        "def get_complexity(model):\n",
        "  steps_total = 0\n",
        "  for layer in model.layers:\n",
        "    if isinstance(layer, Conv2D):\n",
        "      steps = np.prod(layer.kernel_size)*np.prod(layer.input_shape[1:])*layer.output_shape[-1]/np.prod(layer.strides)\n",
        "      print(f'{layer}, steps = {steps}')\n",
        "\n",
        "    elif isinstance(layer, DepthwiseConv2D):\n",
        "      steps = np.prod(layer.kernel_size)*np.prod(layer.input_shape[1:])/np.prod(layer.strides)\n",
        "      print(f'{layer}, steps = {steps}')\n",
        "\n",
        "    elif isinstance(layer, MaxPool2D):\n",
        "      steps = np.prod(layer.pool_size)*np.prod(layer.input_shape[1:])/np.prod(layer.strides)\n",
        "      print(f'{layer}, steps = {steps}')\n",
        "\n",
        "    elif isinstance(layer, Dense):\n",
        "      steps = layer.input_shape[-1]*layer.output_shape[-1]\n",
        "      print(f'{layer}, steps = {steps}')\n",
        "\n",
        "    else:\n",
        "      steps = 0\n",
        "    steps_total += steps\n",
        "\n",
        "  print(f'Total {steps_total/1e6:.1f}M steps.')\n",
        "\n",
        "get_complexity(model)"
      ],
      "execution_count": 83,
      "outputs": [
        {
          "output_type": "stream",
          "text": [
            "<tensorflow.python.keras.layers.convolutional.Conv2D object at 0x7f86bde63240>, steps = 112896.0\n",
            "<tensorflow.python.keras.layers.convolutional.Conv2D object at 0x7f86bde636a0>, steps = 1806336.0\n",
            "<tensorflow.python.keras.layers.pooling.MaxPooling2D object at 0x7f86bde63ac8>, steps = 12544.0\n",
            "<tensorflow.python.keras.layers.convolutional.Conv2D object at 0x7f86bde63cf8>, steps = 903168.0\n",
            "<tensorflow.python.keras.layers.convolutional.Conv2D object at 0x7f86bde5c160>, steps = 1806336.0\n",
            "<tensorflow.python.keras.layers.pooling.MaxPooling2D object at 0x7f86bde5c588>, steps = 6272.0\n",
            "<tensorflow.python.keras.layers.convolutional.Conv2D object at 0x7f86bde5c7b8>, steps = 451584.0\n",
            "<tensorflow.python.keras.layers.convolutional.Conv2D object at 0x7f86bde5cbe0>, steps = 451584.0\n",
            "<tensorflow.python.keras.layers.pooling.MaxPooling2D object at 0x7f86bde56048>, steps = 1568.0\n",
            "<tensorflow.python.keras.layers.core.Dense object at 0x7f86bde564e0>, steps = 36864\n",
            "<tensorflow.python.keras.layers.core.Dense object at 0x7f86bde567b8>, steps = 1280\n",
            "Total 5.6M steps.\n"
          ],
          "name": "stdout"
        }
      ]
    },
    {
      "cell_type": "markdown",
      "metadata": {
        "id": "KmC0TQbFeugM",
        "colab_type": "text"
      },
      "source": [
        "Training procedure using early stopping and data augmentation"
      ]
    },
    {
      "cell_type": "code",
      "metadata": {
        "id": "O_-vbIXME_Lg",
        "colab_type": "code",
        "colab": {}
      },
      "source": [
        "def train(model, epochs=30, lr=0.001, verbose = 0, scheduler = None, patience=10, augment=None, init_weights='init_weights.h5'):\n",
        "\n",
        "    opt = tf.keras.optimizers.Adam(lr)\n",
        "    model.compile(optimizer=opt,\n",
        "              loss='sparse_categorical_crossentropy',\n",
        "              metrics=['accuracy'])\n",
        "\n",
        "    x_tr, x_vld, y_tr, y_vld = train_test_split(x_train, y_train, test_size = 0.1)\n",
        "\n",
        "    if augment == 'flip':\n",
        "        #x_tr, y_tr = tf.concat([x_tr, tf.image.flip_left_right(x_tr)], axis=0), np.concatenate(2*[y_tr])\n",
        "        \n",
        "        x_tr = np.concatenate([x_tr, np.flip(x_tr, axis=1)],\n",
        "                                    axis=0)\n",
        "        y_tr = np.concatenate(2*[y_tr])\n",
        "\n",
        "    if augment == 'flip_rotate':\n",
        "        x_rot = np.stack([rotate(x, np.random.normal(0, 22.5/2), reshape=False) for x in x_tr], axis = 0)\n",
        "        x_tr = np.concatenate([x_tr, x_rot, \n",
        "                               np.flip(x_tr, axis=1),\n",
        "                               np.flip(x_rot, axis = 1)],\n",
        "                              axis=0)\n",
        "        y_tr = np.concatenate(4*[y_tr])\n",
        "        #x_rot = tfa.image.rotate(x_tr, angles = tf.random.normal(shape = [x_tr.shape[0]], mean = 0.0, stddev = np.pi/16))\n",
        "        #x_tr, y_tr = tf.concat([x_tr, x_rot, tf.image.flip_left_right(x_tr), tf.image.flip_left_right(x_rot)], axis=0), np.concatenate(4*[y_tr])\n",
        "\n",
        "    es = EarlyStopping(monitor='val_loss', patience=patience, verbose=0, restore_best_weights=True)\n",
        "    model.load_weights(init_weights)\n",
        "    print('Weights loaded')\n",
        "    history = model.fit(x_tr, y_tr, batch_size=64, epochs = epochs, verbose = verbose,\n",
        "                      validation_data = (x_vld, y_vld),\n",
        "                      callbacks = [es] if scheduler == None else [es, scheduler])\n",
        "\n",
        "    _, vld_acc = model.evaluate(x_vld,  y_vld, verbose=0)\n",
        "    print('\\nStop epoch: {}, validation accuracy: {}'.format(es.stopped_epoch, vld_acc))\n",
        "    _, test_acc = model.evaluate(x_test,  y_test, verbose=0)\n",
        "    print('\\nTest accuracy: {}'.format(test_acc))\n",
        "\n",
        "    return history"
      ],
      "execution_count": 0,
      "outputs": []
    },
    {
      "cell_type": "code",
      "metadata": {
        "id": "ItSFjgfwFnYJ",
        "colab_type": "code",
        "outputId": "cd74ac05-e48b-4d7e-e172-a92946f638ff",
        "colab": {
          "base_uri": "https://localhost:8080/",
          "height": 350
        }
      },
      "source": [
        "#no data augmentation\n",
        "history = train(model, 50, 0.001, verbose=0)\n",
        "plt.plot(history.history['loss'])\n",
        "plt.plot(history.history['val_loss'])"
      ],
      "execution_count": 0,
      "outputs": [
        {
          "output_type": "stream",
          "text": [
            "\n",
            "Stop epoch: 40, validation accuracy: 0.9281666874885559\n",
            "\n",
            "Test accuracy: 0.9251999855041504\n"
          ],
          "name": "stdout"
        },
        {
          "output_type": "execute_result",
          "data": {
            "text/plain": [
              "[<matplotlib.lines.Line2D at 0x7f0375682ef0>]"
            ]
          },
          "metadata": {
            "tags": []
          },
          "execution_count": 46
        },
        {
          "output_type": "display_data",
          "data": {
            "image/png": "[encoded data removed]",
            "text/plain": [
              "<Figure size 432x288 with 1 Axes>"
            ]
          },
          "metadata": {
            "tags": []
          }
        }
      ]
    },
    {
      "cell_type": "code",
      "metadata": {
        "id": "hkhFUA-WFqTG",
        "colab_type": "code",
        "outputId": "55455755-13b3-4fe0-a079-1235e3349d32",
        "colab": {
          "base_uri": "https://localhost:8080/",
          "height": 350
        }
      },
      "source": [
        "#augmenting the data by horizontal flipping\n",
        "history = train(model, 50, 0.001, verbose=0, augment='flip')\n",
        "plt.plot(history.history['loss'])\n",
        "plt.plot(history.history['val_loss'])"
      ],
      "execution_count": 0,
      "outputs": [
        {
          "output_type": "stream",
          "text": [
            "\n",
            "Stop epoch: 33, validation accuracy: 0.9254999756813049\n",
            "\n",
            "Test accuracy: 0.9186999797821045\n"
          ],
          "name": "stdout"
        },
        {
          "output_type": "execute_result",
          "data": {
            "text/plain": [
              "[<matplotlib.lines.Line2D at 0x7f03754c8780>]"
            ]
          },
          "metadata": {
            "tags": []
          },
          "execution_count": 54
        },
        {
          "output_type": "display_data",
          "data": {
            "image/png": "[encoded data removed]",
            "text/plain": [
              "<Figure size 432x288 with 1 Axes>"
            ]
          },
          "metadata": {
            "tags": []
          }
        }
      ]
    },
    {
      "cell_type": "code",
      "metadata": {
        "id": "qArqksTxiNcr",
        "colab_type": "code",
        "outputId": "92a3b9a5-cbbd-48b9-da27-df079ba432cb",
        "colab": {
          "base_uri": "https://localhost:8080/",
          "height": 350
        }
      },
      "source": [
        "#augmenting the data by horizontal flipping and rotations\n",
        "history = train(model, 50, lr = 0.001, verbose=0, augment='flip_rotate')\n",
        "plt.plot(history.history['loss'])\n",
        "plt.plot(history.history['val_loss'])"
      ],
      "execution_count": 0,
      "outputs": [
        {
          "output_type": "stream",
          "text": [
            "\n",
            "Stop epoch: 41, validation accuracy: 0.9233333468437195\n",
            "\n",
            "Test accuracy: 0.9115999937057495\n"
          ],
          "name": "stdout"
        },
        {
          "output_type": "execute_result",
          "data": {
            "text/plain": [
              "[<matplotlib.lines.Line2D at 0x7f0375f3c390>]"
            ]
          },
          "metadata": {
            "tags": []
          },
          "execution_count": 48
        },
        {
          "output_type": "display_data",
          "data": {
            "image/png": "[encoded data removed]",
            "text/plain": [
              "<Figure size 432x288 with 1 Axes>"
            ]
          },
          "metadata": {
            "tags": []
          }
        }
      ]
    },
    {
      "cell_type": "markdown",
      "metadata": {
        "id": "p_woiYxAFtTB",
        "colab_type": "text"
      },
      "source": [
        "#Transfer learning on MobileNet"
      ]
    },
    {
      "cell_type": "code",
      "metadata": {
        "id": "VPHlZi0oHswJ",
        "colab_type": "code",
        "outputId": "a110e3e1-5c5c-4b94-b714-f37574f851e4",
        "colab": {
          "base_uri": "https://localhost:8080/",
          "height": 1000
        }
      },
      "source": [
        "input_image = Input(shape = (28,28,1))\n",
        "resized = Lambda(lambda x: tf.image.resize(x, size = tf.constant([56,56])))(input_image)\n",
        "stacked = Lambda(lambda x: tf.concat(3*[x], axis = -1))(resized) #MobileNet accepts only input with three channels\n",
        "base_model = tf.keras.applications.MobileNet(input_tensor = stacked, include_top=False, pooling='avg', weights='imagenet')\n",
        "output = Dropout(0.5)(base_model.output)\n",
        "predict = Dense(10, activation='softmax')(output)\n",
        "mob_net = Model(inputs=input_image, outputs=predict)\n",
        "\n",
        "mob_net.compile(optimizer='adam', loss='sparse_categorical_crossentropy', metrics=['accuracy'])\n",
        "mob_net.summary()\n",
        "model.save_weights('init_weights_mob_net.h5')\n",
        "get_complexity(mob_net) #estimate the number of operations / forward step"
      ],
      "execution_count": 84,
      "outputs": [
        {
          "output_type": "stream",
          "text": [
            "/usr/local/lib/python3.6/dist-packages/keras_applications/mobilenet.py:207: UserWarning: `input_shape` is undefined or non-square, or `rows` is not in [128, 160, 192, 224]. Weights for input shape (224, 224) will be loaded as the default.\n",
            "  warnings.warn('`input_shape` is undefined or non-square, '\n"
          ],
          "name": "stderr"
        },
        {
          "output_type": "stream",
          "text": [
            "Model: \"model_3\"\n",
            "_________________________________________________________________\n",
            "Layer (type)                 Output Shape              Param #   \n",
            "=================================================================\n",
            "input_4 (InputLayer)         [(None, 28, 28, 1)]       0         \n",
            "_________________________________________________________________\n",
            "lambda_6 (Lambda)            (None, 56, 56, 1)         0         \n",
            "_________________________________________________________________\n",
            "lambda_7 (Lambda)            (None, 56, 56, 3)         0         \n",
            "_________________________________________________________________\n",
            "conv1_pad (ZeroPadding2D)    (None, 57, 57, 3)         0         \n",
            "_________________________________________________________________\n",
            "conv1 (Conv2D)               (None, 28, 28, 32)        864       \n",
            "_________________________________________________________________\n",
            "conv1_bn (BatchNormalization (None, 28, 28, 32)        128       \n",
            "_________________________________________________________________\n",
            "conv1_relu (ReLU)            (None, 28, 28, 32)        0         \n",
            "_________________________________________________________________\n",
            "conv_dw_1 (DepthwiseConv2D)  (None, 28, 28, 32)        288       \n",
            "_________________________________________________________________\n",
            "conv_dw_1_bn (BatchNormaliza (None, 28, 28, 32)        128       \n",
            "_________________________________________________________________\n",
            "conv_dw_1_relu (ReLU)        (None, 28, 28, 32)        0         \n",
            "_________________________________________________________________\n",
            "conv_pw_1 (Conv2D)           (None, 28, 28, 64)        2048      \n",
            "_________________________________________________________________\n",
            "conv_pw_1_bn (BatchNormaliza (None, 28, 28, 64)        256       \n",
            "_________________________________________________________________\n",
            "conv_pw_1_relu (ReLU)        (None, 28, 28, 64)        0         \n",
            "_________________________________________________________________\n",
            "conv_pad_2 (ZeroPadding2D)   (None, 29, 29, 64)        0         \n",
            "_________________________________________________________________\n",
            "conv_dw_2 (DepthwiseConv2D)  (None, 14, 14, 64)        576       \n",
            "_________________________________________________________________\n",
            "conv_dw_2_bn (BatchNormaliza (None, 14, 14, 64)        256       \n",
            "_________________________________________________________________\n",
            "conv_dw_2_relu (ReLU)        (None, 14, 14, 64)        0         \n",
            "_________________________________________________________________\n",
            "conv_pw_2 (Conv2D)           (None, 14, 14, 128)       8192      \n",
            "_________________________________________________________________\n",
            "conv_pw_2_bn (BatchNormaliza (None, 14, 14, 128)       512       \n",
            "_________________________________________________________________\n",
            "conv_pw_2_relu (ReLU)        (None, 14, 14, 128)       0         \n",
            "_________________________________________________________________\n",
            "conv_dw_3 (DepthwiseConv2D)  (None, 14, 14, 128)       1152      \n",
            "_________________________________________________________________\n",
            "conv_dw_3_bn (BatchNormaliza (None, 14, 14, 128)       512       \n",
            "_________________________________________________________________\n",
            "conv_dw_3_relu (ReLU)        (None, 14, 14, 128)       0         \n",
            "_________________________________________________________________\n",
            "conv_pw_3 (Conv2D)           (None, 14, 14, 128)       16384     \n",
            "_________________________________________________________________\n",
            "conv_pw_3_bn (BatchNormaliza (None, 14, 14, 128)       512       \n",
            "_________________________________________________________________\n",
            "conv_pw_3_relu (ReLU)        (None, 14, 14, 128)       0         \n",
            "_________________________________________________________________\n",
            "conv_pad_4 (ZeroPadding2D)   (None, 15, 15, 128)       0         \n",
            "_________________________________________________________________\n",
            "conv_dw_4 (DepthwiseConv2D)  (None, 7, 7, 128)         1152      \n",
            "_________________________________________________________________\n",
            "conv_dw_4_bn (BatchNormaliza (None, 7, 7, 128)         512       \n",
            "_________________________________________________________________\n",
            "conv_dw_4_relu (ReLU)        (None, 7, 7, 128)         0         \n",
            "_________________________________________________________________\n",
            "conv_pw_4 (Conv2D)           (None, 7, 7, 256)         32768     \n",
            "_________________________________________________________________\n",
            "conv_pw_4_bn (BatchNormaliza (None, 7, 7, 256)         1024      \n",
            "_________________________________________________________________\n",
            "conv_pw_4_relu (ReLU)        (None, 7, 7, 256)         0         \n",
            "_________________________________________________________________\n",
            "conv_dw_5 (DepthwiseConv2D)  (None, 7, 7, 256)         2304      \n",
            "_________________________________________________________________\n",
            "conv_dw_5_bn (BatchNormaliza (None, 7, 7, 256)         1024      \n",
            "_________________________________________________________________\n",
            "conv_dw_5_relu (ReLU)        (None, 7, 7, 256)         0         \n",
            "_________________________________________________________________\n",
            "conv_pw_5 (Conv2D)           (None, 7, 7, 256)         65536     \n",
            "_________________________________________________________________\n",
            "conv_pw_5_bn (BatchNormaliza (None, 7, 7, 256)         1024      \n",
            "_________________________________________________________________\n",
            "conv_pw_5_relu (ReLU)        (None, 7, 7, 256)         0         \n",
            "_________________________________________________________________\n",
            "conv_pad_6 (ZeroPadding2D)   (None, 8, 8, 256)         0         \n",
            "_________________________________________________________________\n",
            "conv_dw_6 (DepthwiseConv2D)  (None, 3, 3, 256)         2304      \n",
            "_________________________________________________________________\n",
            "conv_dw_6_bn (BatchNormaliza (None, 3, 3, 256)         1024      \n",
            "_________________________________________________________________\n",
            "conv_dw_6_relu (ReLU)        (None, 3, 3, 256)         0         \n",
            "_________________________________________________________________\n",
            "conv_pw_6 (Conv2D)           (None, 3, 3, 512)         131072    \n",
            "_________________________________________________________________\n",
            "conv_pw_6_bn (BatchNormaliza (None, 3, 3, 512)         2048      \n",
            "_________________________________________________________________\n",
            "conv_pw_6_relu (ReLU)        (None, 3, 3, 512)         0         \n",
            "_________________________________________________________________\n",
            "conv_dw_7 (DepthwiseConv2D)  (None, 3, 3, 512)         4608      \n",
            "_________________________________________________________________\n",
            "conv_dw_7_bn (BatchNormaliza (None, 3, 3, 512)         2048      \n",
            "_________________________________________________________________\n",
            "conv_dw_7_relu (ReLU)        (None, 3, 3, 512)         0         \n",
            "_________________________________________________________________\n",
            "conv_pw_7 (Conv2D)           (None, 3, 3, 512)         262144    \n",
            "_________________________________________________________________\n",
            "conv_pw_7_bn (BatchNormaliza (None, 3, 3, 512)         2048      \n",
            "_________________________________________________________________\n",
            "conv_pw_7_relu (ReLU)        (None, 3, 3, 512)         0         \n",
            "_________________________________________________________________\n",
            "conv_dw_8 (DepthwiseConv2D)  (None, 3, 3, 512)         4608      \n",
            "_________________________________________________________________\n",
            "conv_dw_8_bn (BatchNormaliza (None, 3, 3, 512)         2048      \n",
            "_________________________________________________________________\n",
            "conv_dw_8_relu (ReLU)        (None, 3, 3, 512)         0         \n",
            "_________________________________________________________________\n",
            "conv_pw_8 (Conv2D)           (None, 3, 3, 512)         262144    \n",
            "_________________________________________________________________\n",
            "conv_pw_8_bn (BatchNormaliza (None, 3, 3, 512)         2048      \n",
            "_________________________________________________________________\n",
            "conv_pw_8_relu (ReLU)        (None, 3, 3, 512)         0         \n",
            "_________________________________________________________________\n",
            "conv_dw_9 (DepthwiseConv2D)  (None, 3, 3, 512)         4608      \n",
            "_________________________________________________________________\n",
            "conv_dw_9_bn (BatchNormaliza (None, 3, 3, 512)         2048      \n",
            "_________________________________________________________________\n",
            "conv_dw_9_relu (ReLU)        (None, 3, 3, 512)         0         \n",
            "_________________________________________________________________\n",
            "conv_pw_9 (Conv2D)           (None, 3, 3, 512)         262144    \n",
            "_________________________________________________________________\n",
            "conv_pw_9_bn (BatchNormaliza (None, 3, 3, 512)         2048      \n",
            "_________________________________________________________________\n",
            "conv_pw_9_relu (ReLU)        (None, 3, 3, 512)         0         \n",
            "_________________________________________________________________\n",
            "conv_dw_10 (DepthwiseConv2D) (None, 3, 3, 512)         4608      \n",
            "_________________________________________________________________\n",
            "conv_dw_10_bn (BatchNormaliz (None, 3, 3, 512)         2048      \n",
            "_________________________________________________________________\n",
            "conv_dw_10_relu (ReLU)       (None, 3, 3, 512)         0         \n",
            "_________________________________________________________________\n",
            "conv_pw_10 (Conv2D)          (None, 3, 3, 512)         262144    \n",
            "_________________________________________________________________\n",
            "conv_pw_10_bn (BatchNormaliz (None, 3, 3, 512)         2048      \n",
            "_________________________________________________________________\n",
            "conv_pw_10_relu (ReLU)       (None, 3, 3, 512)         0         \n",
            "_________________________________________________________________\n",
            "conv_dw_11 (DepthwiseConv2D) (None, 3, 3, 512)         4608      \n",
            "_________________________________________________________________\n",
            "conv_dw_11_bn (BatchNormaliz (None, 3, 3, 512)         2048      \n",
            "_________________________________________________________________\n",
            "conv_dw_11_relu (ReLU)       (None, 3, 3, 512)         0         \n",
            "_________________________________________________________________\n",
            "conv_pw_11 (Conv2D)          (None, 3, 3, 512)         262144    \n",
            "_________________________________________________________________\n",
            "conv_pw_11_bn (BatchNormaliz (None, 3, 3, 512)         2048      \n",
            "_________________________________________________________________\n",
            "conv_pw_11_relu (ReLU)       (None, 3, 3, 512)         0         \n",
            "_________________________________________________________________\n",
            "conv_pad_12 (ZeroPadding2D)  (None, 4, 4, 512)         0         \n",
            "_________________________________________________________________\n",
            "conv_dw_12 (DepthwiseConv2D) (None, 1, 1, 512)         4608      \n",
            "_________________________________________________________________\n",
            "conv_dw_12_bn (BatchNormaliz (None, 1, 1, 512)         2048      \n",
            "_________________________________________________________________\n",
            "conv_dw_12_relu (ReLU)       (None, 1, 1, 512)         0         \n",
            "_________________________________________________________________\n",
            "conv_pw_12 (Conv2D)          (None, 1, 1, 1024)        524288    \n",
            "_________________________________________________________________\n",
            "conv_pw_12_bn (BatchNormaliz (None, 1, 1, 1024)        4096      \n",
            "_________________________________________________________________\n",
            "conv_pw_12_relu (ReLU)       (None, 1, 1, 1024)        0         \n",
            "_________________________________________________________________\n",
            "conv_dw_13 (DepthwiseConv2D) (None, 1, 1, 1024)        9216      \n",
            "_________________________________________________________________\n",
            "conv_dw_13_bn (BatchNormaliz (None, 1, 1, 1024)        4096      \n",
            "_________________________________________________________________\n",
            "conv_dw_13_relu (ReLU)       (None, 1, 1, 1024)        0         \n",
            "_________________________________________________________________\n",
            "conv_pw_13 (Conv2D)          (None, 1, 1, 1024)        1048576   \n",
            "_________________________________________________________________\n",
            "conv_pw_13_bn (BatchNormaliz (None, 1, 1, 1024)        4096      \n",
            "_________________________________________________________________\n",
            "conv_pw_13_relu (ReLU)       (None, 1, 1, 1024)        0         \n",
            "_________________________________________________________________\n",
            "global_average_pooling2d_3 ( (None, 1024)              0         \n",
            "_________________________________________________________________\n",
            "dropout_4 (Dropout)          (None, 1024)              0         \n",
            "_________________________________________________________________\n",
            "dense_5 (Dense)              (None, 10)                10250     \n",
            "=================================================================\n",
            "Total params: 3,239,114\n",
            "Trainable params: 3,217,226\n",
            "Non-trainable params: 21,888\n",
            "_________________________________________________________________\n",
            "<tensorflow.python.keras.layers.convolutional.Conv2D object at 0x7f86be230898>, steps = 701784.0\n",
            "<tensorflow.python.keras.layers.convolutional.DepthwiseConv2D object at 0x7f86bc76edd8>, steps = 7225344.0\n",
            "<tensorflow.python.keras.layers.convolutional.Conv2D object at 0x7f86bc7c4710>, steps = 1605632.0\n",
            "<tensorflow.python.keras.layers.convolutional.DepthwiseConv2D object at 0x7f86bc6f90f0>, steps = 7750656.0\n",
            "<tensorflow.python.keras.layers.convolutional.Conv2D object at 0x7f86bc6b6438>, steps = 1605632.0\n",
            "<tensorflow.python.keras.layers.convolutional.DepthwiseConv2D object at 0x7f86bc66b978>, steps = 28901376.0\n",
            "<tensorflow.python.keras.layers.convolutional.Conv2D object at 0x7f86bc61dd30>, steps = 3211264.0\n",
            "<tensorflow.python.keras.layers.convolutional.DepthwiseConv2D object at 0x7f86bc5dde48>, steps = 8294400.0\n",
            "<tensorflow.python.keras.layers.convolutional.Conv2D object at 0x7f86bc59beb8>, steps = 1605632.0\n",
            "<tensorflow.python.keras.layers.convolutional.DepthwiseConv2D object at 0x7f86bc5cfcc0>, steps = 28901376.0\n",
            "<tensorflow.python.keras.layers.convolutional.Conv2D object at 0x7f86bc569710>, steps = 3211264.0\n",
            "<tensorflow.python.keras.layers.convolutional.DepthwiseConv2D object at 0x7f86bc547f28>, steps = 9437184.0\n",
            "<tensorflow.python.keras.layers.convolutional.Conv2D object at 0x7f86bc4fdd30>, steps = 1179648.0\n",
            "<tensorflow.python.keras.layers.convolutional.DepthwiseConv2D object at 0x7f86bc4a6f98>, steps = 21233664.0\n",
            "<tensorflow.python.keras.layers.convolutional.Conv2D object at 0x7f86bc4d0a90>, steps = 2359296.0\n",
            "<tensorflow.python.keras.layers.convolutional.DepthwiseConv2D object at 0x7f86bc435a20>, steps = 21233664.0\n",
            "<tensorflow.python.keras.layers.convolutional.Conv2D object at 0x7f86bc3e6c18>, steps = 2359296.0\n",
            "<tensorflow.python.keras.layers.convolutional.DepthwiseConv2D object at 0x7f86bc39de80>, steps = 21233664.0\n",
            "<tensorflow.python.keras.layers.convolutional.Conv2D object at 0x7f86bc3b9860>, steps = 2359296.0\n",
            "<tensorflow.python.keras.layers.convolutional.DepthwiseConv2D object at 0x7f86bc31c7b8>, steps = 21233664.0\n",
            "<tensorflow.python.keras.layers.convolutional.Conv2D object at 0x7f86bc354eb8>, steps = 2359296.0\n",
            "<tensorflow.python.keras.layers.convolutional.DepthwiseConv2D object at 0x7f86bc305cc0>, steps = 21233664.0\n",
            "<tensorflow.python.keras.layers.convolutional.Conv2D object at 0x7f86bc2a2710>, steps = 2359296.0\n",
            "<tensorflow.python.keras.layers.convolutional.DepthwiseConv2D object at 0x7f86bc288eb8>, steps = 9437184.0\n",
            "<tensorflow.python.keras.layers.convolutional.Conv2D object at 0x7f86bc2215c0>, steps = 524288.0\n",
            "<tensorflow.python.keras.layers.convolutional.DepthwiseConv2D object at 0x7f86bc1f7cf8>, steps = 9437184.0\n",
            "<tensorflow.python.keras.layers.convolutional.Conv2D object at 0x7f86bc1a4cf8>, steps = 1048576.0\n",
            "<tensorflow.python.keras.layers.core.Dense object at 0x7f86bc0657b8>, steps = 10240\n",
            "Total 242.1M steps.\n"
          ],
          "name": "stdout"
        }
      ]
    },
    {
      "cell_type": "code",
      "metadata": {
        "id": "4owQVBZuz7K1",
        "colab_type": "code",
        "outputId": "fc57082c-ae43-43c2-e65a-15f2994c36c2",
        "colab": {
          "base_uri": "https://localhost:8080/",
          "height": 708
        }
      },
      "source": [
        "mob_net = Model(inputs=input_image, outputs=predict)\n",
        "lr, lr_decay, epochs_decay = 0.001, 0.8, 1\n",
        "scheduler = tf.keras.callbacks.LearningRateScheduler(lambda epoch: lr*lr_decay**(epoch//epochs_decay))\n",
        "history = train(mob_net, 50, 0.001, verbose=1, patience=5, scheduler = scheduler, init_weights='init_weights_mob_net.h5')\n",
        "plt.plot(history.history['loss'])\n",
        "plt.plot(history.history['val_loss'])"
      ],
      "execution_count": 0,
      "outputs": [
        {
          "output_type": "stream",
          "text": [
            "Train on 54000 samples, validate on 6000 samples\n",
            "Epoch 1/50\n",
            "54000/54000 [==============================] - 28s 518us/sample - loss: 0.4857 - acc: 0.8512 - val_loss: 0.2883 - val_acc: 0.9043\n",
            "Epoch 2/50\n",
            "54000/54000 [==============================] - 20s 374us/sample - loss: 0.2654 - acc: 0.9099 - val_loss: 0.2391 - val_acc: 0.9155\n",
            "Epoch 3/50\n",
            "54000/54000 [==============================] - 20s 376us/sample - loss: 0.2070 - acc: 0.9294 - val_loss: 0.2067 - val_acc: 0.9303\n",
            "Epoch 4/50\n",
            "54000/54000 [==============================] - 20s 374us/sample - loss: 0.1800 - acc: 0.9383 - val_loss: 0.2132 - val_acc: 0.9325\n",
            "Epoch 5/50\n",
            "54000/54000 [==============================] - 20s 372us/sample - loss: 0.1498 - acc: 0.9491 - val_loss: 0.1811 - val_acc: 0.9405\n",
            "Epoch 6/50\n",
            "54000/54000 [==============================] - 20s 375us/sample - loss: 0.1258 - acc: 0.9569 - val_loss: 0.2034 - val_acc: 0.9322\n",
            "Epoch 7/50\n",
            "54000/54000 [==============================] - 20s 373us/sample - loss: 0.0966 - acc: 0.9671 - val_loss: 0.1935 - val_acc: 0.9448\n",
            "Epoch 8/50\n",
            "54000/54000 [==============================] - 20s 373us/sample - loss: 0.0739 - acc: 0.9745 - val_loss: 0.1980 - val_acc: 0.9420\n",
            "Epoch 9/50\n",
            "54000/54000 [==============================] - 20s 373us/sample - loss: 0.0528 - acc: 0.9815 - val_loss: 0.2258 - val_acc: 0.9417\n",
            "Epoch 10/50\n",
            "54000/54000 [==============================] - 24s 440us/sample - loss: 0.0391 - acc: 0.9873 - val_loss: 0.2378 - val_acc: 0.9452\n",
            "\n",
            "Stop epoch: 9, validation accuracy: 0.940500020980835\n",
            "\n",
            "Test accuracy: 0.9345999956130981\n"
          ],
          "name": "stdout"
        },
        {
          "output_type": "execute_result",
          "data": {
            "text/plain": [
              "[<matplotlib.lines.Line2D at 0x7f017df08588>]"
            ]
          },
          "metadata": {
            "tags": []
          },
          "execution_count": 83
        },
        {
          "output_type": "display_data",
          "data": {
            "image/png": "[encoded data removed]",
            "text/plain": [
              "<Figure size 432x288 with 1 Axes>"
            ]
          },
          "metadata": {
            "tags": []
          }
        }
      ]
    },
    {
      "cell_type": "code",
      "metadata": {
        "id": "GoaWxLmtjVAe",
        "colab_type": "code",
        "colab": {}
      },
      "source": [
        ""
      ],
      "execution_count": 0,
      "outputs": []
    },
    {
      "cell_type": "code",
      "metadata": {
        "id": "q4iGvvDMzFJv",
        "colab_type": "code",
        "outputId": "029aaffb-9616-483f-d708-cf4d7f100031",
        "colab": {
          "base_uri": "https://localhost:8080/",
          "height": 639
        }
      },
      "source": [
        "mob_net = Model(inputs=input_image, outputs=predict)\n",
        "lr, lr_decay, epochs_decay = 0.0003, 0.8, 1\n",
        "scheduler = tf.keras.callbacks.LearningRateScheduler(lambda epoch: lr*lr_decay**(epoch//epochs_decay))\n",
        "history = train(mob_net, 50, 0.001, verbose=1, patience=5, augment='flip', scheduler = scheduler, init_weights='init_weights_mob_net.h5')\n",
        "plt.plot(history.history['loss'])\n",
        "plt.plot(history.history['val_loss'])"
      ],
      "execution_count": 0,
      "outputs": [
        {
          "output_type": "stream",
          "text": [
            "Train on 108000 samples, validate on 6000 samples\n",
            "Epoch 1/50\n",
            "108000/108000 [==============================] - 39s 359us/sample - loss: 0.1724 - acc: 0.9409 - val_loss: 0.1610 - val_acc: 0.9450\n",
            "Epoch 2/50\n",
            "108000/108000 [==============================] - 36s 337us/sample - loss: 0.1372 - acc: 0.9524 - val_loss: 0.1504 - val_acc: 0.9447\n",
            "Epoch 3/50\n",
            "108000/108000 [==============================] - 36s 336us/sample - loss: 0.1034 - acc: 0.9644 - val_loss: 0.1264 - val_acc: 0.9513\n",
            "Epoch 4/50\n",
            "108000/108000 [==============================] - 37s 340us/sample - loss: 0.0770 - acc: 0.9731 - val_loss: 0.1529 - val_acc: 0.9485\n",
            "Epoch 5/50\n",
            "108000/108000 [==============================] - 36s 338us/sample - loss: 0.0560 - acc: 0.9804 - val_loss: 0.1364 - val_acc: 0.9533\n",
            "Epoch 6/50\n",
            "108000/108000 [==============================] - 36s 333us/sample - loss: 0.0395 - acc: 0.9865 - val_loss: 0.1421 - val_acc: 0.9555\n",
            "Epoch 7/50\n",
            "108000/108000 [==============================] - 36s 334us/sample - loss: 0.0259 - acc: 0.9912 - val_loss: 0.1786 - val_acc: 0.9553\n",
            "Epoch 8/50\n",
            "108000/108000 [==============================] - 36s 332us/sample - loss: 0.0185 - acc: 0.9937 - val_loss: 0.1885 - val_acc: 0.9545\n",
            "\n",
            "Stop epoch: 7, validation accuracy: 0.9513333439826965\n",
            "\n",
            "Test accuracy: 0.9413999915122986\n"
          ],
          "name": "stdout"
        },
        {
          "output_type": "execute_result",
          "data": {
            "text/plain": [
              "[<matplotlib.lines.Line2D at 0x7f3a82b775c0>]"
            ]
          },
          "metadata": {
            "tags": []
          },
          "execution_count": 8
        },
        {
          "output_type": "display_data",
          "data": {
            "image/png": "[encoded data removed]",
            "text/plain": [
              "<Figure size 432x288 with 1 Axes>"
            ]
          },
          "metadata": {
            "tags": []
          }
        }
      ]
    },
    {
      "cell_type": "code",
      "metadata": {
        "id": "jj9fxb6O01b5",
        "colab_type": "code",
        "outputId": "84a8ab6c-f3ed-450a-89a2-7e09ce48dab8",
        "colab": {
          "base_uri": "https://localhost:8080/",
          "height": 673
        }
      },
      "source": [
        "#mob_net = Model(inputs=input_image, outputs=predict)\n",
        "lr, lr_decay, epochs_decay = 0.0003, 0.8, 1\n",
        "scheduler = tf.keras.callbacks.LearningRateScheduler(lambda epoch: lr*lr_decay**(epoch//epochs_decay))\n",
        "history = train(mob_net, 50, 0.001, verbose=1, patience=5, augment='flip_rotate', scheduler = scheduler, init_weights='init_weights_mob_net.h5')\n",
        "plt.plot(history.history['loss'])\n",
        "plt.plot(history.history['val_loss'])"
      ],
      "execution_count": 0,
      "outputs": [
        {
          "output_type": "stream",
          "text": [
            "Train on 216000 samples, validate on 6000 samples\n",
            "Epoch 1/50\n",
            "216000/216000 [==============================] - 75s 347us/sample - loss: 0.4690 - acc: 0.8472 - val_loss: 0.2724 - val_acc: 0.9018\n",
            "Epoch 2/50\n",
            "216000/216000 [==============================] - 71s 328us/sample - loss: 0.2504 - acc: 0.9120 - val_loss: 0.2314 - val_acc: 0.9157\n",
            "Epoch 3/50\n",
            "216000/216000 [==============================] - 71s 327us/sample - loss: 0.1944 - acc: 0.9318 - val_loss: 0.1910 - val_acc: 0.9312\n",
            "Epoch 4/50\n",
            "216000/216000 [==============================] - 71s 328us/sample - loss: 0.1498 - acc: 0.9469 - val_loss: 0.1824 - val_acc: 0.9395\n",
            "Epoch 5/50\n",
            "216000/216000 [==============================] - 71s 327us/sample - loss: 0.1124 - acc: 0.9597 - val_loss: 0.1865 - val_acc: 0.9420\n",
            "Epoch 6/50\n",
            "216000/216000 [==============================] - 71s 327us/sample - loss: 0.0820 - acc: 0.9708 - val_loss: 0.1891 - val_acc: 0.9442\n",
            "Epoch 7/50\n",
            "216000/216000 [==============================] - 71s 327us/sample - loss: 0.0581 - acc: 0.9797 - val_loss: 0.2229 - val_acc: 0.9422\n",
            "Epoch 8/50\n",
            "216000/216000 [==============================] - 71s 328us/sample - loss: 0.0409 - acc: 0.9855 - val_loss: 0.2460 - val_acc: 0.9410\n",
            "Epoch 9/50\n",
            "216000/216000 [==============================] - 71s 329us/sample - loss: 0.0284 - acc: 0.9900 - val_loss: 0.2537 - val_acc: 0.9445\n",
            "\n",
            "Stop epoch: 8, validation accuracy: 0.9394999742507935\n",
            "\n",
            "Test accuracy: 0.9387000203132629\n"
          ],
          "name": "stdout"
        },
        {
          "output_type": "execute_result",
          "data": {
            "text/plain": [
              "[<matplotlib.lines.Line2D at 0x7f3a82aee6a0>]"
            ]
          },
          "metadata": {
            "tags": []
          },
          "execution_count": 7
        },
        {
          "output_type": "display_data",
          "data": {
            "image/png": "[encoded data removed]",
            "text/plain": [
              "<Figure size 432x288 with 1 Axes>"
            ]
          },
          "metadata": {
            "tags": []
          }
        }
      ]
    },
    {
      "cell_type": "markdown",
      "metadata": {
        "id": "fJoLQuSfMiYd",
        "colab_type": "text"
      },
      "source": [
        "# Simplified MobileNet\n",
        "\n",
        "MobileNet architecture using only the first 5 depthwise convolution layers"
      ]
    },
    {
      "cell_type": "code",
      "metadata": {
        "id": "qu7i3gr9MnLf",
        "colab_type": "code",
        "outputId": "545687fc-bbd5-4f23-923b-1071b3e6660a",
        "colab": {
          "base_uri": "https://localhost:8080/",
          "height": 1000
        }
      },
      "source": [
        "input_image = Input(shape = (28,28,1))\n",
        "resized = Lambda(lambda x: tf.image.resize(x, size = tf.constant([56,56])))(input_image)\n",
        "stacked = Lambda(lambda x: tf.concat(3*[x], axis = -1))(resized) #MobileNet accepts only input with three channels\n",
        "base_model = tf.keras.applications.MobileNet(input_tensor = stacked, include_top=False, pooling='avg', weights='imagenet')\n",
        "base_model_output = base_model.layers[37].output\n",
        "flattened = tf.keras.layers.GlobalAvgPool2D(name = 'gl_avg_pooling')(base_model_output)\n",
        "output = Dropout(0.5)(flattened)\n",
        "predict = Dense(10, activation='softmax')(output)\n",
        "\n",
        "mob_net2 = Model(inputs=input_image, outputs=predict)\n",
        "mob_net2.compile(optimizer='adam', loss='sparse_categorical_crossentropy', metrics=['accuracy'])\n",
        "mob_net2.summary()\n",
        "mob_net2.save_weights('init_weights_mob_net_reduced.h5')\n",
        "\n",
        "get_complexity(mob_net2)"
      ],
      "execution_count": 85,
      "outputs": [
        {
          "output_type": "stream",
          "text": [
            "/usr/local/lib/python3.6/dist-packages/keras_applications/mobilenet.py:207: UserWarning: `input_shape` is undefined or non-square, or `rows` is not in [128, 160, 192, 224]. Weights for input shape (224, 224) will be loaded as the default.\n",
            "  warnings.warn('`input_shape` is undefined or non-square, '\n"
          ],
          "name": "stderr"
        },
        {
          "output_type": "stream",
          "text": [
            "Model: \"model_4\"\n",
            "_________________________________________________________________\n",
            "Layer (type)                 Output Shape              Param #   \n",
            "=================================================================\n",
            "input_5 (InputLayer)         [(None, 28, 28, 1)]       0         \n",
            "_________________________________________________________________\n",
            "lambda_8 (Lambda)            (None, 56, 56, 1)         0         \n",
            "_________________________________________________________________\n",
            "lambda_9 (Lambda)            (None, 56, 56, 3)         0         \n",
            "_________________________________________________________________\n",
            "conv1_pad (ZeroPadding2D)    (None, 57, 57, 3)         0         \n",
            "_________________________________________________________________\n",
            "conv1 (Conv2D)               (None, 28, 28, 32)        864       \n",
            "_________________________________________________________________\n",
            "conv1_bn (BatchNormalization (None, 28, 28, 32)        128       \n",
            "_________________________________________________________________\n",
            "conv1_relu (ReLU)            (None, 28, 28, 32)        0         \n",
            "_________________________________________________________________\n",
            "conv_dw_1 (DepthwiseConv2D)  (None, 28, 28, 32)        288       \n",
            "_________________________________________________________________\n",
            "conv_dw_1_bn (BatchNormaliza (None, 28, 28, 32)        128       \n",
            "_________________________________________________________________\n",
            "conv_dw_1_relu (ReLU)        (None, 28, 28, 32)        0         \n",
            "_________________________________________________________________\n",
            "conv_pw_1 (Conv2D)           (None, 28, 28, 64)        2048      \n",
            "_________________________________________________________________\n",
            "conv_pw_1_bn (BatchNormaliza (None, 28, 28, 64)        256       \n",
            "_________________________________________________________________\n",
            "conv_pw_1_relu (ReLU)        (None, 28, 28, 64)        0         \n",
            "_________________________________________________________________\n",
            "conv_pad_2 (ZeroPadding2D)   (None, 29, 29, 64)        0         \n",
            "_________________________________________________________________\n",
            "conv_dw_2 (DepthwiseConv2D)  (None, 14, 14, 64)        576       \n",
            "_________________________________________________________________\n",
            "conv_dw_2_bn (BatchNormaliza (None, 14, 14, 64)        256       \n",
            "_________________________________________________________________\n",
            "conv_dw_2_relu (ReLU)        (None, 14, 14, 64)        0         \n",
            "_________________________________________________________________\n",
            "conv_pw_2 (Conv2D)           (None, 14, 14, 128)       8192      \n",
            "_________________________________________________________________\n",
            "conv_pw_2_bn (BatchNormaliza (None, 14, 14, 128)       512       \n",
            "_________________________________________________________________\n",
            "conv_pw_2_relu (ReLU)        (None, 14, 14, 128)       0         \n",
            "_________________________________________________________________\n",
            "conv_dw_3 (DepthwiseConv2D)  (None, 14, 14, 128)       1152      \n",
            "_________________________________________________________________\n",
            "conv_dw_3_bn (BatchNormaliza (None, 14, 14, 128)       512       \n",
            "_________________________________________________________________\n",
            "conv_dw_3_relu (ReLU)        (None, 14, 14, 128)       0         \n",
            "_________________________________________________________________\n",
            "conv_pw_3 (Conv2D)           (None, 14, 14, 128)       16384     \n",
            "_________________________________________________________________\n",
            "conv_pw_3_bn (BatchNormaliza (None, 14, 14, 128)       512       \n",
            "_________________________________________________________________\n",
            "conv_pw_3_relu (ReLU)        (None, 14, 14, 128)       0         \n",
            "_________________________________________________________________\n",
            "conv_pad_4 (ZeroPadding2D)   (None, 15, 15, 128)       0         \n",
            "_________________________________________________________________\n",
            "conv_dw_4 (DepthwiseConv2D)  (None, 7, 7, 128)         1152      \n",
            "_________________________________________________________________\n",
            "conv_dw_4_bn (BatchNormaliza (None, 7, 7, 128)         512       \n",
            "_________________________________________________________________\n",
            "conv_dw_4_relu (ReLU)        (None, 7, 7, 128)         0         \n",
            "_________________________________________________________________\n",
            "conv_pw_4 (Conv2D)           (None, 7, 7, 256)         32768     \n",
            "_________________________________________________________________\n",
            "conv_pw_4_bn (BatchNormaliza (None, 7, 7, 256)         1024      \n",
            "_________________________________________________________________\n",
            "conv_pw_4_relu (ReLU)        (None, 7, 7, 256)         0         \n",
            "_________________________________________________________________\n",
            "conv_dw_5 (DepthwiseConv2D)  (None, 7, 7, 256)         2304      \n",
            "_________________________________________________________________\n",
            "conv_dw_5_bn (BatchNormaliza (None, 7, 7, 256)         1024      \n",
            "_________________________________________________________________\n",
            "conv_dw_5_relu (ReLU)        (None, 7, 7, 256)         0         \n",
            "_________________________________________________________________\n",
            "conv_pw_5 (Conv2D)           (None, 7, 7, 256)         65536     \n",
            "_________________________________________________________________\n",
            "conv_pw_5_bn (BatchNormaliza (None, 7, 7, 256)         1024      \n",
            "_________________________________________________________________\n",
            "gl_avg_pooling (GlobalAverag (None, 256)               0         \n",
            "_________________________________________________________________\n",
            "dropout_5 (Dropout)          (None, 256)               0         \n",
            "_________________________________________________________________\n",
            "dense_6 (Dense)              (None, 10)                2570      \n",
            "=================================================================\n",
            "Total params: 139,722\n",
            "Trainable params: 136,778\n",
            "Non-trainable params: 2,944\n",
            "_________________________________________________________________\n",
            "<tensorflow.python.keras.layers.convolutional.Conv2D object at 0x7f86b7f42d68>, steps = 701784.0\n",
            "<tensorflow.python.keras.layers.convolutional.DepthwiseConv2D object at 0x7f86b7faac18>, steps = 7225344.0\n",
            "<tensorflow.python.keras.layers.convolutional.Conv2D object at 0x7f86b7fb0400>, steps = 1605632.0\n",
            "<tensorflow.python.keras.layers.convolutional.DepthwiseConv2D object at 0x7f86b7ec1e48>, steps = 7750656.0\n",
            "<tensorflow.python.keras.layers.convolutional.Conv2D object at 0x7f86b7ef5cc0>, steps = 1605632.0\n",
            "<tensorflow.python.keras.layers.convolutional.DepthwiseConv2D object at 0x7f86b7e9bf60>, steps = 28901376.0\n",
            "<tensorflow.python.keras.layers.convolutional.Conv2D object at 0x7f86b7e45a58>, steps = 3211264.0\n",
            "<tensorflow.python.keras.layers.convolutional.DepthwiseConv2D object at 0x7f86b7e26f28>, steps = 8294400.0\n",
            "<tensorflow.python.keras.layers.convolutional.Conv2D object at 0x7f86b7e3e710>, steps = 1605632.0\n",
            "<tensorflow.python.keras.layers.convolutional.DepthwiseConv2D object at 0x7f86b7d8a2b0>, steps = 28901376.0\n",
            "<tensorflow.python.keras.layers.convolutional.Conv2D object at 0x7f86b7d5bf60>, steps = 3211264.0\n",
            "<tensorflow.python.keras.layers.core.Dense object at 0x7f86b78b2cc0>, steps = 2560\n",
            "Total 93.0M steps.\n"
          ],
          "name": "stdout"
        }
      ]
    },
    {
      "cell_type": "code",
      "metadata": {
        "id": "pHsusxdnNXO6",
        "colab_type": "code",
        "outputId": "12b7206c-2b55-490b-bcbd-ef9d188004ee",
        "colab": {
          "base_uri": "https://localhost:8080/",
          "height": 962
        }
      },
      "source": [
        "lr, lr_decay, epochs_decay = 0.001, 0.8, 1\n",
        "scheduler = tf.keras.callbacks.LearningRateScheduler(lambda epoch: lr*lr_decay**(epoch//epochs_decay))\n",
        "history = train(mob_net2, 50, 0.001, verbose=2, patience=10, scheduler = scheduler, init_weights='init_weights_mob_net_reduced.h5')\n",
        "plt.plot(history.history['loss'])\n",
        "plt.plot(history.history['val_loss'])"
      ],
      "execution_count": 0,
      "outputs": [
        {
          "output_type": "stream",
          "text": [
            "Weights loaded\n",
            "Train on 54000 samples, validate on 6000 samples\n",
            "Epoch 1/50\n",
            "54000/54000 - 16s - loss: 0.5368 - acc: 0.8229 - val_loss: 0.3578 - val_acc: 0.8805\n",
            "Epoch 2/50\n",
            "54000/54000 - 11s - loss: 0.2602 - acc: 0.9094 - val_loss: 0.2990 - val_acc: 0.8952\n",
            "Epoch 3/50\n",
            "54000/54000 - 11s - loss: 0.2107 - acc: 0.9251 - val_loss: 0.2792 - val_acc: 0.9017\n",
            "Epoch 4/50\n",
            "54000/54000 - 11s - loss: 0.1781 - acc: 0.9368 - val_loss: 0.2689 - val_acc: 0.9122\n",
            "Epoch 5/50\n",
            "54000/54000 - 11s - loss: 0.1564 - acc: 0.9456 - val_loss: 0.2519 - val_acc: 0.9158\n",
            "Epoch 6/50\n",
            "54000/54000 - 11s - loss: 0.1337 - acc: 0.9535 - val_loss: 0.2139 - val_acc: 0.9308\n",
            "Epoch 7/50\n",
            "54000/54000 - 11s - loss: 0.1174 - acc: 0.9587 - val_loss: 0.2011 - val_acc: 0.9332\n",
            "Epoch 8/50\n",
            "54000/54000 - 11s - loss: 0.1014 - acc: 0.9657 - val_loss: 0.2023 - val_acc: 0.9332\n",
            "Epoch 9/50\n",
            "54000/54000 - 11s - loss: 0.0884 - acc: 0.9701 - val_loss: 0.2067 - val_acc: 0.9328\n",
            "Epoch 10/50\n",
            "54000/54000 - 11s - loss: 0.0799 - acc: 0.9731 - val_loss: 0.2129 - val_acc: 0.9290\n",
            "Epoch 11/50\n",
            "54000/54000 - 11s - loss: 0.0723 - acc: 0.9766 - val_loss: 0.2120 - val_acc: 0.9330\n",
            "Epoch 12/50\n",
            "54000/54000 - 11s - loss: 0.0657 - acc: 0.9785 - val_loss: 0.2149 - val_acc: 0.9332\n",
            "Epoch 13/50\n",
            "54000/54000 - 11s - loss: 0.0609 - acc: 0.9801 - val_loss: 0.2110 - val_acc: 0.9350\n",
            "Epoch 14/50\n",
            "54000/54000 - 11s - loss: 0.0568 - acc: 0.9816 - val_loss: 0.2170 - val_acc: 0.9345\n",
            "Epoch 15/50\n",
            "54000/54000 - 11s - loss: 0.0530 - acc: 0.9827 - val_loss: 0.2190 - val_acc: 0.9328\n",
            "Epoch 16/50\n",
            "54000/54000 - 11s - loss: 0.0517 - acc: 0.9836 - val_loss: 0.2198 - val_acc: 0.9333\n",
            "Epoch 17/50\n",
            "54000/54000 - 11s - loss: 0.0499 - acc: 0.9841 - val_loss: 0.2201 - val_acc: 0.9340\n",
            "\n",
            "Stop epoch: 16, validation accuracy: 0.9331666827201843\n",
            "\n",
            "Test accuracy: 0.9294999837875366\n"
          ],
          "name": "stdout"
        },
        {
          "output_type": "execute_result",
          "data": {
            "text/plain": [
              "[<matplotlib.lines.Line2D at 0x7f386d919e80>]"
            ]
          },
          "metadata": {
            "tags": []
          },
          "execution_count": 26
        },
        {
          "output_type": "display_data",
          "data": {
            "image/png": "[encoded data removed]",
            "text/plain": [
              "<Figure size 432x288 with 1 Axes>"
            ]
          },
          "metadata": {
            "tags": []
          }
        }
      ]
    },
    {
      "cell_type": "code",
      "metadata": {
        "id": "M19dnJpoNorJ",
        "colab_type": "code",
        "outputId": "35858532-dc1a-4824-9d4b-d52575334a7f",
        "colab": {
          "base_uri": "https://localhost:8080/",
          "height": 1000
        }
      },
      "source": [
        "lr, lr_decay, epochs_decay = 0.0003, 0.8, 1\n",
        "scheduler = tf.keras.callbacks.LearningRateScheduler(lambda epoch: lr*lr_decay**(epoch//epochs_decay))\n",
        "history = train(mob_net2, 50, 0.001, verbose=2, patience=10, augment='flip', scheduler = scheduler, init_weights='init_weights_mob_net_reduced.h5')\n",
        "plt.plot(history.history['loss'])\n",
        "plt.plot(history.history['val_loss'])"
      ],
      "execution_count": 0,
      "outputs": [
        {
          "output_type": "stream",
          "text": [
            "Weights loaded\n",
            "Train on 108000 samples, validate on 6000 samples\n",
            "Epoch 1/50\n",
            "108000/108000 - 26s - loss: 0.6663 - acc: 0.7798 - val_loss: 0.3151 - val_acc: 0.8895\n",
            "Epoch 2/50\n",
            "108000/108000 - 22s - loss: 0.3204 - acc: 0.8888 - val_loss: 0.2566 - val_acc: 0.9127\n",
            "Epoch 3/50\n",
            "108000/108000 - 22s - loss: 0.2621 - acc: 0.9086 - val_loss: 0.2428 - val_acc: 0.9125\n",
            "Epoch 4/50\n",
            "108000/108000 - 22s - loss: 0.2297 - acc: 0.9204 - val_loss: 0.2230 - val_acc: 0.9232\n",
            "Epoch 5/50\n",
            "108000/108000 - 22s - loss: 0.2108 - acc: 0.9266 - val_loss: 0.2247 - val_acc: 0.9207\n",
            "Epoch 6/50\n",
            "108000/108000 - 22s - loss: 0.1965 - acc: 0.9312 - val_loss: 0.2125 - val_acc: 0.9260\n",
            "Epoch 7/50\n",
            "108000/108000 - 22s - loss: 0.1840 - acc: 0.9359 - val_loss: 0.2046 - val_acc: 0.9277\n",
            "Epoch 8/50\n",
            "108000/108000 - 22s - loss: 0.1761 - acc: 0.9389 - val_loss: 0.2007 - val_acc: 0.9308\n",
            "Epoch 9/50\n",
            "108000/108000 - 22s - loss: 0.1697 - acc: 0.9408 - val_loss: 0.2017 - val_acc: 0.9312\n",
            "Epoch 10/50\n",
            "108000/108000 - 22s - loss: 0.1626 - acc: 0.9429 - val_loss: 0.2035 - val_acc: 0.9305\n",
            "Epoch 11/50\n",
            "108000/108000 - 22s - loss: 0.1608 - acc: 0.9442 - val_loss: 0.1999 - val_acc: 0.9313\n",
            "Epoch 12/50\n",
            "108000/108000 - 22s - loss: 0.1565 - acc: 0.9451 - val_loss: 0.1994 - val_acc: 0.9330\n",
            "Epoch 13/50\n",
            "108000/108000 - 22s - loss: 0.1541 - acc: 0.9461 - val_loss: 0.2009 - val_acc: 0.9325\n",
            "Epoch 14/50\n",
            "108000/108000 - 22s - loss: 0.1509 - acc: 0.9470 - val_loss: 0.1995 - val_acc: 0.9320\n",
            "Epoch 15/50\n",
            "108000/108000 - 22s - loss: 0.1503 - acc: 0.9473 - val_loss: 0.2011 - val_acc: 0.9322\n",
            "Epoch 16/50\n",
            "108000/108000 - 22s - loss: 0.1477 - acc: 0.9489 - val_loss: 0.2001 - val_acc: 0.9332\n",
            "Epoch 17/50\n",
            "108000/108000 - 22s - loss: 0.1471 - acc: 0.9483 - val_loss: 0.2003 - val_acc: 0.9327\n",
            "Epoch 18/50\n",
            "108000/108000 - 22s - loss: 0.1456 - acc: 0.9499 - val_loss: 0.1994 - val_acc: 0.9323\n",
            "Epoch 19/50\n",
            "108000/108000 - 22s - loss: 0.1457 - acc: 0.9488 - val_loss: 0.1999 - val_acc: 0.9323\n",
            "Epoch 20/50\n",
            "108000/108000 - 22s - loss: 0.1444 - acc: 0.9496 - val_loss: 0.1997 - val_acc: 0.9320\n",
            "Epoch 21/50\n",
            "108000/108000 - 22s - loss: 0.1431 - acc: 0.9503 - val_loss: 0.2009 - val_acc: 0.9327\n",
            "Epoch 22/50\n",
            "108000/108000 - 22s - loss: 0.1431 - acc: 0.9500 - val_loss: 0.1994 - val_acc: 0.9325\n",
            "Epoch 23/50\n",
            "108000/108000 - 22s - loss: 0.1429 - acc: 0.9497 - val_loss: 0.2000 - val_acc: 0.9327\n",
            "Epoch 24/50\n",
            "108000/108000 - 22s - loss: 0.1426 - acc: 0.9498 - val_loss: 0.1994 - val_acc: 0.9328\n",
            "Epoch 25/50\n",
            "108000/108000 - 22s - loss: 0.1432 - acc: 0.9499 - val_loss: 0.1996 - val_acc: 0.9325\n",
            "Epoch 26/50\n",
            "108000/108000 - 22s - loss: 0.1416 - acc: 0.9504 - val_loss: 0.1996 - val_acc: 0.9323\n",
            "Epoch 27/50\n",
            "108000/108000 - 22s - loss: 0.1423 - acc: 0.9507 - val_loss: 0.1998 - val_acc: 0.9318\n",
            "Epoch 28/50\n",
            "108000/108000 - 22s - loss: 0.1422 - acc: 0.9505 - val_loss: 0.1998 - val_acc: 0.9325\n",
            "Epoch 29/50\n",
            "108000/108000 - 22s - loss: 0.1421 - acc: 0.9505 - val_loss: 0.1999 - val_acc: 0.9322\n",
            "Epoch 30/50\n",
            "108000/108000 - 22s - loss: 0.1419 - acc: 0.9507 - val_loss: 0.2000 - val_acc: 0.9318\n",
            "Epoch 31/50\n",
            "108000/108000 - 22s - loss: 0.1423 - acc: 0.9504 - val_loss: 0.1998 - val_acc: 0.9325\n",
            "Epoch 32/50\n",
            "108000/108000 - 22s - loss: 0.1424 - acc: 0.9499 - val_loss: 0.1999 - val_acc: 0.9320\n",
            "Epoch 33/50\n",
            "108000/108000 - 22s - loss: 0.1419 - acc: 0.9507 - val_loss: 0.1997 - val_acc: 0.9322\n",
            "Epoch 34/50\n",
            "108000/108000 - 22s - loss: 0.1431 - acc: 0.9499 - val_loss: 0.1999 - val_acc: 0.9325\n",
            "\n",
            "Stop epoch: 33, validation accuracy: 0.9328333139419556\n",
            "\n",
            "Test accuracy: 0.9269999861717224\n"
          ],
          "name": "stdout"
        },
        {
          "output_type": "execute_result",
          "data": {
            "text/plain": [
              "[<matplotlib.lines.Line2D at 0x7f386caa9be0>]"
            ]
          },
          "metadata": {
            "tags": []
          },
          "execution_count": 27
        },
        {
          "output_type": "display_data",
          "data": {
            "image/png": "[encoded data removed]",
            "text/plain": [
              "<Figure size 432x288 with 1 Axes>"
            ]
          },
          "metadata": {
            "tags": []
          }
        }
      ]
    },
    {
      "cell_type": "code",
      "metadata": {
        "id": "I8Y-GTXqNgO7",
        "colab_type": "code",
        "outputId": "98d63390-f39a-4b98-8593-0bc41058c370",
        "colab": {
          "base_uri": "https://localhost:8080/",
          "height": 1000
        }
      },
      "source": [
        "lr, lr_decay, epochs_decay = 0.0003, 0.8, 1\n",
        "scheduler = tf.keras.callbacks.LearningRateScheduler(lambda epoch: lr*lr_decay**(epoch//epochs_decay))\n",
        "history = train(mob_net2, 50, 0.001, verbose=2, patience=10, augment='flip_rotate', scheduler = scheduler, init_weights='init_weights_mob_net_reduced.h5')\n",
        "plt.plot(history.history['loss'])\n",
        "plt.plot(history.history['val_loss'])"
      ],
      "execution_count": 0,
      "outputs": [
        {
          "output_type": "stream",
          "text": [
            "Weights loaded\n",
            "Train on 216000 samples, validate on 6000 samples\n",
            "Epoch 1/50\n",
            "216000/216000 - 49s - loss: 0.5611 - acc: 0.8114 - val_loss: 0.3037 - val_acc: 0.8943\n",
            "Epoch 2/50\n",
            "216000/216000 - 45s - loss: 0.2943 - acc: 0.8968 - val_loss: 0.2400 - val_acc: 0.9170\n",
            "Epoch 3/50\n",
            "216000/216000 - 44s - loss: 0.2497 - acc: 0.9121 - val_loss: 0.2223 - val_acc: 0.9232\n",
            "Epoch 4/50\n",
            "216000/216000 - 44s - loss: 0.2256 - acc: 0.9202 - val_loss: 0.2501 - val_acc: 0.9133\n",
            "Epoch 5/50\n",
            "216000/216000 - 44s - loss: 0.2071 - acc: 0.9267 - val_loss: 0.2163 - val_acc: 0.9270\n",
            "Epoch 6/50\n",
            "216000/216000 - 44s - loss: 0.1934 - acc: 0.9315 - val_loss: 0.2078 - val_acc: 0.9308\n",
            "Epoch 7/50\n",
            "216000/216000 - 44s - loss: 0.1838 - acc: 0.9346 - val_loss: 0.2063 - val_acc: 0.9300\n",
            "Epoch 8/50\n",
            "216000/216000 - 44s - loss: 0.1765 - acc: 0.9372 - val_loss: 0.2030 - val_acc: 0.9307\n",
            "Epoch 9/50\n",
            "216000/216000 - 44s - loss: 0.1691 - acc: 0.9403 - val_loss: 0.2039 - val_acc: 0.9292\n",
            "Epoch 10/50\n",
            "216000/216000 - 44s - loss: 0.1637 - acc: 0.9420 - val_loss: 0.2034 - val_acc: 0.9322\n",
            "Epoch 11/50\n",
            "216000/216000 - 44s - loss: 0.1593 - acc: 0.9435 - val_loss: 0.2026 - val_acc: 0.9317\n",
            "Epoch 12/50\n",
            "216000/216000 - 44s - loss: 0.1561 - acc: 0.9443 - val_loss: 0.2061 - val_acc: 0.9315\n",
            "Epoch 13/50\n",
            "216000/216000 - 44s - loss: 0.1539 - acc: 0.9453 - val_loss: 0.2055 - val_acc: 0.9300\n",
            "Epoch 14/50\n",
            "216000/216000 - 44s - loss: 0.1507 - acc: 0.9462 - val_loss: 0.2031 - val_acc: 0.9320\n",
            "Epoch 15/50\n",
            "216000/216000 - 44s - loss: 0.1496 - acc: 0.9469 - val_loss: 0.2060 - val_acc: 0.9330\n",
            "Epoch 16/50\n",
            "216000/216000 - 44s - loss: 0.1474 - acc: 0.9481 - val_loss: 0.2044 - val_acc: 0.9303\n",
            "Epoch 17/50\n",
            "216000/216000 - 44s - loss: 0.1463 - acc: 0.9485 - val_loss: 0.2046 - val_acc: 0.9307\n",
            "Epoch 18/50\n",
            "216000/216000 - 44s - loss: 0.1460 - acc: 0.9483 - val_loss: 0.2058 - val_acc: 0.9317\n",
            "Epoch 19/50\n",
            "216000/216000 - 44s - loss: 0.1449 - acc: 0.9486 - val_loss: 0.2048 - val_acc: 0.9307\n",
            "Epoch 20/50\n",
            "216000/216000 - 44s - loss: 0.1456 - acc: 0.9485 - val_loss: 0.2055 - val_acc: 0.9312\n",
            "Epoch 21/50\n",
            "216000/216000 - 44s - loss: 0.1443 - acc: 0.9490 - val_loss: 0.2048 - val_acc: 0.9303\n",
            "\n",
            "Stop epoch: 20, validation accuracy: 0.9316666722297668\n",
            "\n",
            "Test accuracy: 0.9248999953269958\n"
          ],
          "name": "stdout"
        },
        {
          "output_type": "execute_result",
          "data": {
            "text/plain": [
              "[<matplotlib.lines.Line2D at 0x7f386c327a58>]"
            ]
          },
          "metadata": {
            "tags": []
          },
          "execution_count": 28
        },
        {
          "output_type": "display_data",
          "data": {
            "image/png": "[encoded data removed]",
            "text/plain": [
              "<Figure size 432x288 with 1 Axes>"
            ]
          },
          "metadata": {
            "tags": []
          }
        }
      ]
    }
  ]
}